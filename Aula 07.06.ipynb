{
 "cells": [
  {
   "cell_type": "code",
   "execution_count": 11,
   "metadata": {},
   "outputs": [],
   "source": [
    "def funcaoLeitura():\n",
    "    for num in range(1, 2, 3, 4, 5):\n",
    "        print(\"Número \", num)"
   ]
  },
  {
   "cell_type": "code",
   "execution_count": null,
   "metadata": {},
   "outputs": [],
   "source": [
    "funcaoLeitura()"
   ]
  },
  {
   "cell_type": "code",
   "execution_count": 10,
   "metadata": {},
   "outputs": [],
   "source": [
    "def funcaoLeitura():\n",
    "    for num in(5):\n",
    "        print(\"Número \", num)"
   ]
  },
  {
   "cell_type": "code",
   "execution_count": 15,
   "metadata": {},
   "outputs": [],
   "source": [
    "# Função para somar dois números\n",
    "def addNum(n1, n2):\n",
    "    print(\"O primeiro número é: \", n1)\n",
    "    print(\"O segundo número é: \", n2)\n",
    "    print(\"A soma número é: \", n1+n2)"
   ]
  },
  {
   "cell_type": "code",
   "execution_count": 18,
   "metadata": {},
   "outputs": [
    {
     "name": "stdout",
     "output_type": "stream",
     "text": [
      "O primeiro número é:  2\n",
      "O segundo número é:  3\n",
      "A soma número é:  5\n"
     ]
    }
   ],
   "source": [
    "addNum(2, 3)"
   ]
  },
  {
   "cell_type": "code",
   "execution_count": 22,
   "metadata": {},
   "outputs": [
    {
     "name": "stdout",
     "output_type": "stream",
     "text": [
      "O primeiro número é:  4\n",
      "O segundo número é:  3\n",
      "A soma número é:  7\n"
     ]
    }
   ],
   "source": [
    "addNum(4,3)"
   ]
  },
  {
   "cell_type": "code",
   "execution_count": 23,
   "metadata": {},
   "outputs": [
    {
     "ename": "TypeError",
     "evalue": "addNum() missing 2 required positional arguments: 'n1' and 'n2'",
     "output_type": "error",
     "traceback": [
      "\u001b[1;31m---------------------------------------------------------------------------\u001b[0m",
      "\u001b[1;31mTypeError\u001b[0m                                 Traceback (most recent call last)",
      "Cell \u001b[1;32mIn [23], line 1\u001b[0m\n\u001b[1;32m----> 1\u001b[0m \u001b[43maddNum\u001b[49m\u001b[43m(\u001b[49m\u001b[43m)\u001b[49m\n",
      "\u001b[1;31mTypeError\u001b[0m: addNum() missing 2 required positional arguments: 'n1' and 'n2'"
     ]
    }
   ],
   "source": [
    "# Precisa colocar 2 argumentos \"n1\" e \"n2\"\n",
    "addNum()"
   ]
  },
  {
   "cell_type": "code",
   "execution_count": 29,
   "metadata": {},
   "outputs": [
    {
     "name": "stdout",
     "output_type": "stream",
     "text": [
      "Variável da função Multiplica:  20\n",
      "10\n"
     ]
    }
   ],
   "source": [
    "varGlobal = 10      # Variável global fora da função\n",
    "def multiplicacao(num1, num2):\n",
    "    # Apesar do mesmo nome, é uma variável local:\n",
    "    varGlobal = (num1 * num2)\n",
    "    print(\"Variável da função Multiplica: \", varGlobal)\n",
    "\n",
    "multiplicacao(5, 4)\n",
    "print(varGlobal)"
   ]
  },
  {
   "cell_type": "code",
   "execution_count": 32,
   "metadata": {},
   "outputs": [
    {
     "name": "stdout",
     "output_type": "stream",
     "text": [
      "Variável da função Multiplica:  20\n"
     ]
    }
   ],
   "source": [
    "varGlobal = 10      # É uma variável global\n",
    "def multiplica(num1, num2):\n",
    "    varLocal = (num1 * num2)    # É uma variável local\n",
    "    print(\"Variável da função Multiplica: \", varLocal)\n",
    "    print(varLocal)\n",
    "\n",
    "multiplicacao(5, 4)"
   ]
  },
  {
   "cell_type": "code",
   "execution_count": 33,
   "metadata": {},
   "outputs": [
    {
     "ename": "NameError",
     "evalue": "name 'varLocal' is not defined",
     "output_type": "error",
     "traceback": [
      "\u001b[1;31m---------------------------------------------------------------------------\u001b[0m",
      "\u001b[1;31mNameError\u001b[0m                                 Traceback (most recent call last)",
      "Cell \u001b[1;32mIn [33], line 1\u001b[0m\n\u001b[1;32m----> 1\u001b[0m \u001b[38;5;28mprint\u001b[39m(\u001b[43mvarLocal\u001b[49m)\n",
      "\u001b[1;31mNameError\u001b[0m: name 'varLocal' is not defined"
     ]
    }
   ],
   "source": [
    "# A variável só existe na função\n",
    "print(varLocal)"
   ]
  },
  {
   "cell_type": "code",
   "execution_count": 34,
   "metadata": {},
   "outputs": [],
   "source": [
    "def separarTexto(texto):\n",
    "    return texto.split()"
   ]
  },
  {
   "cell_type": "code",
   "execution_count": 35,
   "metadata": {},
   "outputs": [
    {
     "data": {
      "text/plain": [
       "['Cibele', 'Maria', 'Suely']"
      ]
     },
     "execution_count": 35,
     "metadata": {},
     "output_type": "execute_result"
    }
   ],
   "source": [
    "separarTexto(\"Cibele Maria Suely\")"
   ]
  },
  {
   "cell_type": "code",
   "execution_count": 36,
   "metadata": {},
   "outputs": [],
   "source": [
    "# Função para saber a quantidade de parâmetros\n",
    "def variosParametros(*parametros):\n",
    "    for n, item in enumerate(parametros):\n",
    "        print(\"Parâmetro\", n, item)\n",
    "    return"
   ]
  },
  {
   "cell_type": "code",
   "execution_count": 37,
   "metadata": {},
   "outputs": [
    {
     "name": "stdout",
     "output_type": "stream",
     "text": [
      "Parâmetro 0 Cibele\n",
      "Parâmetro 1 Suely\n",
      "Parâmetro 2 Giggio\n",
      "Parâmetro 3 Madá\n",
      "Parâmetro 4 Luquinhas\n"
     ]
    }
   ],
   "source": [
    "variosParametros('Cibele', 'Suely', 'Giggio', 'Madá', 'Luquinhas')"
   ]
  },
  {
   "cell_type": "code",
   "execution_count": null,
   "metadata": {},
   "outputs": [],
   "source": [
    "# Calcular a suma\n",
    "def soma(n1, n2):\n",
    "    return n1+n2\n",
    "# Calcular a subtração\n",
    "def subtrai(n1, n2):\n",
    "    return n1-n2\n",
    "# Calcular a multiplicação\n",
    "def multiplica(n1, n2):\n",
    "    return n1*n2\n",
    "# Calcular a divisão\n",
    "def divide(n1, n2):\n",
    "    return n1/n2\n",
    "# Calculadora\n",
    "while True:\n",
    "    print(\"+===================+\")\n",
    "    print(\"| Menu de Operações |\")\n",
    "    print(\"| 1 - Somar         |\")\n",
    "    print(\"| 2 - Subtrair      |\")\n",
    "    print(\"| 3 - Multiplicar   |\")\n",
    "    print(\"| 4 - Dividir       |\")\n",
    "    print(\"+===================+\")\n",
    "    op = int(input())\n",
    "    if op == 0:\n",
    "        break\n",
    "    n1 = int(input(\"Primeiro número: \"))\n",
    "    n2 = int(input(\"Segundo número: \"))\n",
    "    if op == 1:\n",
    "        print(\"O resultado da soma é: \", soma(n1, n2))\n",
    "    elif op == 2:\n",
    "        print(\"O resultado da subtração é: \", subtrai(n1, n2))\n",
    "    elif op == 3:\n",
    "        print(\"O resultado da multiplicação é: \", multiplica(n1, n2))\n",
    "    elif op == 4:\n",
    "        print(\"O resultado da divisão é: \", divide(n1, n2))\n",
    "    else:\n",
    "        print(\" Você deve colocar uma das opções acima.\")"
   ]
  }
 ],
 "metadata": {
  "kernelspec": {
   "display_name": "Python 3",
   "language": "python",
   "name": "python3"
  },
  "language_info": {
   "codemirror_mode": {
    "name": "ipython",
    "version": 3
   },
   "file_extension": ".py",
   "mimetype": "text/x-python",
   "name": "python",
   "nbconvert_exporter": "python",
   "pygments_lexer": "ipython3",
   "version": "3.10.11"
  }
 },
 "nbformat": 4,
 "nbformat_minor": 2
}
